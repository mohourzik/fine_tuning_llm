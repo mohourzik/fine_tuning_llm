{
 "cells": [
  {
   "cell_type": "code",
   "execution_count": 19,
   "metadata": {},
   "outputs": [],
   "source": [
    "# import dependecies\n",
    "import os\n",
    "import re\n",
    "import torch\n",
    "import pandas as pd\n",
    "import datasets\n",
    "from transformers import AutoTokenizer, AutoModelForCausalLM, BitsAndBytesConfig, pipeline, set_seed\n",
    "from peft import LoraConfig, PeftModel\n",
    "from trl import SFTConfig, SFTTrainer\n",
    "from trl import DataCollatorForCompletionOnlyLM"
   ]
  },
  {
   "cell_type": "code",
   "execution_count": 20,
   "metadata": {},
   "outputs": [],
   "source": [
    "# load the dataset\n",
    "path_dir = '/teamspace/studios/this_studio/Fine_tuning'\n",
    "\n",
    "dataset = datasets.load_from_disk(path_dir + '/dataset')\n",
    "test_dataset = dataset['test']"
   ]
  },
  {
   "cell_type": "code",
   "execution_count": 21,
   "metadata": {},
   "outputs": [],
   "source": [
    "def format_test_prompts(example):\n",
    "    questions = []\n",
    "    answers = []\n",
    "    for text in example:\n",
    "        # question = re.findall(r'(### Question: .*?)\\n\\s*### Answer:', text, re.DOTALL)[0]\n",
    "        question = re.findall(r'### Question: (.*?)\\n\\s*### Answer:', text, re.DOTALL)[0]\n",
    "        answer = re.findall(r'### Answer: (.*)', text, re.DOTALL)[0]\n",
    "        \n",
    "        questions.append(question)\n",
    "        answers.append(answer)\n",
    "    return {'questions': questions, 'answers': answers}"
   ]
  },
  {
   "cell_type": "code",
   "execution_count": 22,
   "metadata": {},
   "outputs": [
    {
     "data": {
      "text/plain": [
       "Dataset({\n",
       "    features: ['questions', 'answers'],\n",
       "    num_rows: 4980\n",
       "})"
      ]
     },
     "execution_count": 22,
     "metadata": {},
     "output_type": "execute_result"
    }
   ],
   "source": [
    "formated_test_dataset = format_test_prompts(test_dataset['text'])\n",
    "# convert the formated test dataset to a dataset object\n",
    "test_dataset = datasets.Dataset.from_dict(formated_test_dataset)\n",
    "test_dataset"
   ]
  },
  {
   "cell_type": "code",
   "execution_count": 23,
   "metadata": {},
   "outputs": [
    {
     "data": {
      "text/plain": [
       "('Can you help me write a program to calculate the average value of a list of numbers?',\n",
       " \"Sure! Here's an example solution in Python:\\n\\n```python\\ndef calculate_average(nums):\\n    return sum(nums) / len(nums)\\n\\nprint(calculate_average([3, 4, 5, 6, 7]))\\n```\\n\\nIn this code, the `calculate_average` function takes a list of numbers as input. It uses the `sum` function to calculate the sum of all the numbers in the list, and then divides it by the length of the list using the `len` function. Finally, it returns the average value.\\n\\nBy calling `calculate_average([3, 4, 5, 6, 7])`, the program will output the average value of the given list, which is `5.0` in this case.\")"
      ]
     },
     "execution_count": 23,
     "metadata": {},
     "output_type": "execute_result"
    }
   ],
   "source": [
    "test_dataset['questions'][0], test_dataset['answers'][0]"
   ]
  },
  {
   "cell_type": "code",
   "execution_count": 24,
   "metadata": {},
   "outputs": [],
   "source": [
    "quant_4_bit = True\n",
    "if quant_4_bit:\n",
    "    quant_config = BitsAndBytesConfig(\n",
    "        load_in_4bit=True,\n",
    "        bnb_4bit_use_double_quant=True,\n",
    "        bnb_4bit_compute_dtype=torch.bfloat16,\n",
    "        bnb_4bit_quant_type=\"nf4\",\n",
    ")\n",
    "else:\n",
    "    quant_config = BitsAndBytesConfig(\n",
    "        load_in_8bit=True,\n",
    "        bnb_4bit_compute_dtype=torch.bfloat16,\n",
    ")"
   ]
  },
  {
   "cell_type": "code",
   "execution_count": 25,
   "metadata": {},
   "outputs": [],
   "source": [
    "# load the tokenizer\n",
    "max_sequence_length = 1024 # gpt2\n",
    "\n",
    "tokenizer = AutoTokenizer.from_pretrained(\n",
    "    'openai-community/gpt2',\n",
    "    trust_remote_code = True\n",
    ")\n",
    "## pad the sequence if it is < max_sequence_length\n",
    "tokenizer.pad_token = tokenizer.eos_token\n",
    "\n",
    "tokenizer.padding_side = 'right'\n",
    "\n",
    "tokenizer.model_max_length = max_sequence_length\n",
    "\n",
    "tokenizer.truncation_side = 'right'"
   ]
  },
  {
   "cell_type": "code",
   "execution_count": 26,
   "metadata": {},
   "outputs": [
    {
     "name": "stdout",
     "output_type": "stream",
     "text": [
      "139.37 MB\n"
     ]
    }
   ],
   "source": [
    "fine_tuned_model_name = path_dir + '/gpt2_fine_tuned_model'\n",
    "\n",
    "\n",
    "model = AutoModelForCausalLM.from_pretrained(\n",
    "        'openai-community/gpt2',\n",
    "        quantization_config = quant_config,\n",
    "        device_map = 'auto',\n",
    ")\n",
    "fine_tuned_model_loaded = PeftModel.from_pretrained(model, fine_tuned_model_name)\n",
    "\n",
    "model.generation_config.pad_token_id = tokenizer.eos_token_id\n",
    "print(f\"{(fine_tuned_model_loaded.get_memory_footprint() / 1e6):.2f} MB\")\n",
    "\n",
    "# 134.06 MB = using quant_4_bit\n",
    "# 176.53 MB = using quant_8_bit\n",
    "# 510.34 MB = without quantization\n"
   ]
  },
  {
   "cell_type": "code",
   "execution_count": 27,
   "metadata": {},
   "outputs": [
    {
     "data": {
      "text/plain": [
       "PeftModelForCausalLM(\n",
       "  (base_model): LoraModel(\n",
       "    (model): GPT2LMHeadModel(\n",
       "      (transformer): GPT2Model(\n",
       "        (wte): Embedding(50257, 768)\n",
       "        (wpe): Embedding(1024, 768)\n",
       "        (drop): Dropout(p=0.1, inplace=False)\n",
       "        (h): ModuleList(\n",
       "          (0-11): 12 x GPT2Block(\n",
       "            (ln_1): LayerNorm((768,), eps=1e-05, elementwise_affine=True)\n",
       "            (attn): GPT2Attention(\n",
       "              (c_attn): lora.Linear4bit(\n",
       "                (base_layer): Linear4bit(in_features=768, out_features=2304, bias=True)\n",
       "                (lora_dropout): ModuleDict(\n",
       "                  (default): Dropout(p=0.2, inplace=False)\n",
       "                )\n",
       "                (lora_A): ModuleDict(\n",
       "                  (default): Linear(in_features=768, out_features=16, bias=False)\n",
       "                )\n",
       "                (lora_B): ModuleDict(\n",
       "                  (default): Linear(in_features=16, out_features=2304, bias=False)\n",
       "                )\n",
       "                (lora_embedding_A): ParameterDict()\n",
       "                (lora_embedding_B): ParameterDict()\n",
       "                (lora_magnitude_vector): ModuleDict()\n",
       "              )\n",
       "              (c_proj): Linear4bit(in_features=768, out_features=768, bias=True)\n",
       "              (attn_dropout): Dropout(p=0.1, inplace=False)\n",
       "              (resid_dropout): Dropout(p=0.1, inplace=False)\n",
       "            )\n",
       "            (ln_2): LayerNorm((768,), eps=1e-05, elementwise_affine=True)\n",
       "            (mlp): GPT2MLP(\n",
       "              (c_fc): lora.Linear4bit(\n",
       "                (base_layer): Linear4bit(in_features=768, out_features=3072, bias=True)\n",
       "                (lora_dropout): ModuleDict(\n",
       "                  (default): Dropout(p=0.2, inplace=False)\n",
       "                )\n",
       "                (lora_A): ModuleDict(\n",
       "                  (default): Linear(in_features=768, out_features=16, bias=False)\n",
       "                )\n",
       "                (lora_B): ModuleDict(\n",
       "                  (default): Linear(in_features=16, out_features=3072, bias=False)\n",
       "                )\n",
       "                (lora_embedding_A): ParameterDict()\n",
       "                (lora_embedding_B): ParameterDict()\n",
       "                (lora_magnitude_vector): ModuleDict()\n",
       "              )\n",
       "              (c_proj): Linear4bit(in_features=3072, out_features=768, bias=True)\n",
       "              (act): NewGELUActivation()\n",
       "              (dropout): Dropout(p=0.1, inplace=False)\n",
       "            )\n",
       "          )\n",
       "        )\n",
       "        (ln_f): LayerNorm((768,), eps=1e-05, elementwise_affine=True)\n",
       "      )\n",
       "      (lm_head): Linear(in_features=768, out_features=50257, bias=False)\n",
       "    )\n",
       "  )\n",
       ")"
      ]
     },
     "execution_count": 27,
     "metadata": {},
     "output_type": "execute_result"
    }
   ],
   "source": [
    "fine_tuned_model_loaded"
   ]
  },
  {
   "cell_type": "code",
   "execution_count": 46,
   "metadata": {},
   "outputs": [],
   "source": [
    "def model_predict(prompt):\n",
    "    inputs = tokenizer.encode(prompt, return_tensors='pt').to('cuda')\n",
    "    attention_mask = torch.ones(inputs.shape, device='cuda')\n",
    "    output = fine_tuned_model_loaded.generate(inputs, attention_mask=attention_mask, max_new_tokens=150, num_return_sequences=1)\n",
    "    response = tokenizer.decode(output[0])\n",
    "    return response"
   ]
  },
  {
   "cell_type": "code",
   "execution_count": 50,
   "metadata": {},
   "outputs": [
    {
     "name": "stdout",
     "output_type": "stream",
     "text": [
      "Answer: Can you help me write a program to calculate the average value of a list of numbers?\n",
      "\n",
      "Here's an example code snippet that calculates the average value of a list of numbers:\n",
      "\n",
      "```python\n",
      "def average_value(nums):\n",
      "    return sum(nums)\n",
      "```\n",
      "\n",
      "In this code, the `average_value` function takes a list of numbers as input. It then uses the `sum()` function to calculate the sum of all the elements in the list. The result is then returned as the average value of the list.\n",
      "\n",
      "To use this function, you can simply call it and pass your list of numbers as an argument. For example, if you have a list `[1, 2, 3, 4, 5]`, you can call `average_\n",
      "----------------------------------------------------------------------------------------------------------------------------------------------------------------------------------------------------------------------------------------------------------------------------------------------------------------------------------------------------------------------------------------------------------------------------------------------------------------------------------------------------------------------------------------------------------------------------------------------------------------------------------------------------------------------------------------------------------------------------------------------------------------------------------------------------------------------------------------------------------------------------------------------------------------------------------------------------------------------------------------------------------------------------------------\n",
      "Expected Answer:\n",
      "Sure! Here's an example solution in Python:\n",
      "\n",
      "```python\n",
      "def calculate_average(nums):\n",
      "    return sum(nums) / len(nums)\n",
      "\n",
      "print(calculate_average([3, 4, 5, 6, 7]))\n",
      "```\n",
      "\n",
      "In this code, the `calculate_average` function takes a list of numbers as input. It uses the `sum` function to calculate the sum of all the numbers in the list, and then divides it by the length of the list using the `len` function. Finally, it returns the average value.\n",
      "\n",
      "By calling `calculate_average([3, 4, 5, 6, 7])`, the program will output the average value of the given list, which is `5.0` in this case.\n",
      "****************************************************************************************************************************************************************************************************************************************************************************************************************************************************************************************************************************************************************************************************************************************************************************************************************************************************************************************************************************************************************************************************************************************************************************************************************************************************************************************************************************************\n",
      "Answer: What is the code for calculating the sum of two numbers and storing the result in a variable?\n",
      "\n",
      "```python\n",
      "def sum_two_numbers(n):\n",
      "    sum = 0\n",
      "    for i in range(1, n+1):\n",
      "         sum += i\n",
      "    return sum\n",
      "```\n",
      "\n",
      "In this code, the `sum_two_numbers` function takes two parameters: `n` (the number to be added) and `n+1` (the number to be subtracted). It initializes a variable `sum` to 0. Then, it iterates over each number in the range from 1 to `n+1`. For each number, it adds it to the `sum` variable using the `+=\n",
      "----------------------------------------------------------------------------------------------------------------------------------------------------------------------------------------------------------------------------------------------------------------------------------------------------------------------------------------------------------------------------------------------------------------------------------------------------------------------------------------------------------------------------------------------------------------------------------------------------------------------------------------------------------------------------------------------------------------------------------------------------------------------------------------------------------------------------------------------------------------------------------------------------------------------------------------------------------------------------------------------------------------------------------------\n",
      "Expected Answer:\n",
      "To calculate the sum of two numbers and store the result in a variable, you can use the following code:\n",
      "\n",
      "```python\n",
      "num1 = 10\n",
      "num2 = 5\n",
      "sum = num1 + num2\n",
      "```\n",
      "\n",
      "In this code, we initialize two variables `num1` and `num2` with the numbers you want to add. Then, we use the `+` operator to add the two numbers and assign the result to the variable `sum`.\n",
      "****************************************************************************************************************************************************************************************************************************************************************************************************************************************************************************************************************************************************************************************************************************************************************************************************************************************************************************************************************************************************************************************************************************************************************************************************************************************************************************************************************************************\n",
      "Answer: Is the following statement a valid Python statement - \"my_list = [1, 2, 3]\"?\n",
      "\n",
      "In this statement, we declare a list called \"my_list\" with the values 1, 2, 3. The expression \"my_list = [1, 2, 3]\"? will return the list with the values 1, 2, 3.\n",
      "\n",
      "The expression \"my_list = [1, 2, 3]\"? will return the list with the values 1, 2, 3.\n",
      "\n",
      "By using this statement, you can easily create a list of numbers from 1 to 10, and then store them in a variable called \"my_list\". This will ensure that the list is correctly formatted and correctly formatted.\n",
      "\n",
      "Here's an example of how you can use this statement:\n",
      "\n",
      "```python\n",
      "my\n",
      "----------------------------------------------------------------------------------------------------------------------------------------------------------------------------------------------------------------------------------------------------------------------------------------------------------------------------------------------------------------------------------------------------------------------------------------------------------------------------------------------------------------------------------------------------------------------------------------------------------------------------------------------------------------------------------------------------------------------------------------------------------------------------------------------------------------------------------------------------------------------------------------------------------------------------------------------------------------------------------------------------------------------------------------\n",
      "Expected Answer:\n",
      "Yes, the statement \"my_list = [1, 2, 3]\" is a valid Python statement. It assigns a list of integers [1, 2, 3] to the variable name \"my_list\". In Python, you can create variables and assign values to them using the \"=\" operator. In this case, the variable \"my_list\" is assigned the list [1, 2, 3]. This statement is syntactically correct and follows the conventions of Python programming language.\n",
      "****************************************************************************************************************************************************************************************************************************************************************************************************************************************************************************************************************************************************************************************************************************************************************************************************************************************************************************************************************************************************************************************************************************************************************************************************************************************************************************************************************************************\n",
      "Answer: How can an AI create a python function to sort an array of integers in ascending order? Here's an example code snippet:\n",
      "\n",
      "```python\n",
      "def sort_array(arr):\n",
      "    arr.sort()\n",
      "    return arr\n",
      "```\n",
      "\n",
      "In this code, the `sort_array` function takes an array `arr` as input. It then uses the `sort()` method on the array to sort the elements in ascending order. Finally, the sorted array is returned.\n",
      "\n",
      "To use this function, you can call it with your desired array as an argument. For example, if you have an array `[1, 2, 3, 4, 5]`, you can call `sort_array([1, 2, 3, 4, 5])`. The function will return\n",
      "----------------------------------------------------------------------------------------------------------------------------------------------------------------------------------------------------------------------------------------------------------------------------------------------------------------------------------------------------------------------------------------------------------------------------------------------------------------------------------------------------------------------------------------------------------------------------------------------------------------------------------------------------------------------------------------------------------------------------------------------------------------------------------------------------------------------------------------------------------------------------------------------------------------------------------------------------------------------------------------------------------------------------------------\n",
      "Expected Answer:\n",
      "You can use the following python function to sort an array of integers in ascending order:\n",
      "\n",
      "```python\n",
      "def sort_int_asc(arr):\n",
      "    arr.sort()\n",
      "    return arr\n",
      "```\n",
      "\n",
      "You can pass the array as an argument to the `sort_int_asc` function. The function sorts the array in-place using the `sort()` method, which rearranges the elements in ascending order. Finally, the sorted array is returned as the output.\n",
      "\n",
      "Here is an example usage of the `sort_int_asc` function:\n",
      "\n",
      "```python\n",
      "print(sort_int_asc([3, 7, 8, 1, 5, 4]))\n",
      "```\n",
      "\n",
      "This will output `[1, 3, 4, 5, 7, 8]`, which is the sorted array in ascending order.\n",
      "****************************************************************************************************************************************************************************************************************************************************************************************************************************************************************************************************************************************************************************************************************************************************************************************************************************************************************************************************************************************************************************************************************************************************************************************************************************************************************************************************************************************\n"
     ]
    }
   ],
   "source": [
    "for i in range(len(test_dataset['questions'])):\n",
    "    prompt = test_dataset['questions'][i]\n",
    "    response = model_predict(prompt)\n",
    "    print(f\"Answer: {response}\")\n",
    "    print('-'* 1000)\n",
    "    print(f\"Expected Answer:\")\n",
    "    print(f\"{test_dataset['answers'][i]}\")\n",
    "    print(\"*\"* 1000)\n",
    "    if i == 3:\n",
    "        break"
   ]
  }
 ],
 "metadata": {
  "language_info": {
   "name": "python"
  }
 },
 "nbformat": 4,
 "nbformat_minor": 2
}
