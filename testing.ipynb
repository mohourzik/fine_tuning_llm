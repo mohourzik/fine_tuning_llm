{
 "cells": [
  {
   "cell_type": "code",
   "execution_count": 1,
   "metadata": {},
   "outputs": [],
   "source": [
    "# import dependecies\n",
    "import os\n",
    "import re\n",
    "import torch\n",
    "import pandas as pd\n",
    "import datasets\n",
    "from transformers import AutoTokenizer, AutoModelForCausalLM, BitsAndBytesConfig, pipeline, set_seed\n",
    "from peft import LoraConfig, PeftModel\n",
    "from trl import SFTConfig, SFTTrainer\n",
    "from trl import DataCollatorForCompletionOnlyLM"
   ]
  },
  {
   "cell_type": "code",
   "execution_count": 2,
   "metadata": {},
   "outputs": [],
   "source": [
    "# load the dataset\n",
    "path_dir = '/teamspace/studios/this_studio/Fine_tuning'\n",
    "\n",
    "dataset = datasets.load_from_disk(path_dir + '/dataset')\n",
    "test_dataset = dataset['test']"
   ]
  },
  {
   "cell_type": "code",
   "execution_count": 3,
   "metadata": {},
   "outputs": [],
   "source": [
    "def format_test_prompts(example):\n",
    "    questions = []\n",
    "    answers = []\n",
    "    for text in example:\n",
    "        question = re.findall(r'### Question: (.*?)\\n\\s*### Answer:', text, re.DOTALL)[0]\n",
    "        answer = re.findall(r'### Answer: (.*)', text, re.DOTALL)[0]\n",
    "        \n",
    "        questions.append(question)\n",
    "        answers.append(answer)\n",
    "    return {'questions': questions, 'answers': answers}"
   ]
  },
  {
   "cell_type": "code",
   "execution_count": 4,
   "metadata": {},
   "outputs": [
    {
     "data": {
      "text/plain": [
       "Dataset({\n",
       "    features: ['questions', 'answers'],\n",
       "    num_rows: 4980\n",
       "})"
      ]
     },
     "execution_count": 4,
     "metadata": {},
     "output_type": "execute_result"
    }
   ],
   "source": [
    "formated_test_dataset = format_test_prompts(test_dataset['text'])\n",
    "# convert the formated test dataset to a dataset object\n",
    "test_dataset = datasets.Dataset.from_dict(formated_test_dataset)\n",
    "test_dataset"
   ]
  },
  {
   "cell_type": "code",
   "execution_count": 5,
   "metadata": {},
   "outputs": [
    {
     "data": {
      "text/plain": [
       "('Can you help me write a program to calculate the average value of a list of numbers?',\n",
       " \"Sure! Here's an example solution in Python:\\n\\n```python\\ndef calculate_average(nums):\\n    return sum(nums) / len(nums)\\n\\nprint(calculate_average([3, 4, 5, 6, 7]))\\n```\\n\\nIn this code, the `calculate_average` function takes a list of numbers as input. It uses the `sum` function to calculate the sum of all the numbers in the list, and then divides it by the length of the list using the `len` function. Finally, it returns the average value.\\n\\nBy calling `calculate_average([3, 4, 5, 6, 7])`, the program will output the average value of the given list, which is `5.0` in this case.\")"
      ]
     },
     "execution_count": 5,
     "metadata": {},
     "output_type": "execute_result"
    }
   ],
   "source": [
    "test_dataset['questions'][0], test_dataset['answers'][0]"
   ]
  },
  {
   "cell_type": "code",
   "execution_count": 6,
   "metadata": {},
   "outputs": [],
   "source": [
    "quant_4_bit = True\n",
    "if quant_4_bit:\n",
    "    quant_config = BitsAndBytesConfig(\n",
    "        load_in_4bit=True,\n",
    "        bnb_4bit_use_double_quant=True,\n",
    "        bnb_4bit_compute_dtype=torch.bfloat16,\n",
    "        bnb_4bit_quant_type=\"nf4\",\n",
    ")\n",
    "else:\n",
    "    quant_config = BitsAndBytesConfig(\n",
    "        load_in_8bit=True,\n",
    "        bnb_4bit_compute_dtype=torch.bfloat16,\n",
    ")"
   ]
  },
  {
   "cell_type": "code",
   "execution_count": 7,
   "metadata": {},
   "outputs": [],
   "source": [
    "# load the tokenizer\n",
    "max_sequence_length = 1024 # gpt2\n",
    "\n",
    "tokenizer = AutoTokenizer.from_pretrained(\n",
    "    'openai-community/gpt2',\n",
    "    trust_remote_code = True\n",
    ")\n",
    "## pad the sequence if it is < max_sequence_length\n",
    "tokenizer.pad_token = tokenizer.eos_token\n",
    "\n",
    "tokenizer.padding_side = 'right'\n",
    "\n",
    "tokenizer.model_max_length = max_sequence_length\n",
    "\n",
    "tokenizer.truncation_side = 'right'"
   ]
  },
  {
   "cell_type": "code",
   "execution_count": 8,
   "metadata": {},
   "outputs": [
    {
     "name": "stdout",
     "output_type": "stream",
     "text": [
      "139.37 MB\n"
     ]
    }
   ],
   "source": [
    "fine_tuned_model_name = path_dir + '/gpt2_fine_tuned_model'\n",
    "\n",
    "\n",
    "model = AutoModelForCausalLM.from_pretrained(\n",
    "        'openai-community/gpt2',\n",
    "        quantization_config = quant_config,\n",
    "        device_map = 'auto',\n",
    ")\n",
    "fine_tuned_model_loaded = PeftModel.from_pretrained(model, fine_tuned_model_name)\n",
    "\n",
    "model.generation_config.pad_token_id = tokenizer.eos_token_id\n",
    "print(f\"{(fine_tuned_model_loaded.get_memory_footprint() / 1e6):.2f} MB\")\n",
    "\n",
    "# 134.06 MB = using quant_4_bit\n",
    "# 176.53 MB = using quant_8_bit\n",
    "# 510.34 MB = without quantization\n"
   ]
  },
  {
   "cell_type": "code",
   "execution_count": 9,
   "metadata": {},
   "outputs": [
    {
     "data": {
      "text/plain": [
       "PeftModelForCausalLM(\n",
       "  (base_model): LoraModel(\n",
       "    (model): GPT2LMHeadModel(\n",
       "      (transformer): GPT2Model(\n",
       "        (wte): Embedding(50257, 768)\n",
       "        (wpe): Embedding(1024, 768)\n",
       "        (drop): Dropout(p=0.1, inplace=False)\n",
       "        (h): ModuleList(\n",
       "          (0-11): 12 x GPT2Block(\n",
       "            (ln_1): LayerNorm((768,), eps=1e-05, elementwise_affine=True)\n",
       "            (attn): GPT2Attention(\n",
       "              (c_attn): lora.Linear4bit(\n",
       "                (base_layer): Linear4bit(in_features=768, out_features=2304, bias=True)\n",
       "                (lora_dropout): ModuleDict(\n",
       "                  (default): Dropout(p=0.2, inplace=False)\n",
       "                )\n",
       "                (lora_A): ModuleDict(\n",
       "                  (default): Linear(in_features=768, out_features=16, bias=False)\n",
       "                )\n",
       "                (lora_B): ModuleDict(\n",
       "                  (default): Linear(in_features=16, out_features=2304, bias=False)\n",
       "                )\n",
       "                (lora_embedding_A): ParameterDict()\n",
       "                (lora_embedding_B): ParameterDict()\n",
       "                (lora_magnitude_vector): ModuleDict()\n",
       "              )\n",
       "              (c_proj): Linear4bit(in_features=768, out_features=768, bias=True)\n",
       "              (attn_dropout): Dropout(p=0.1, inplace=False)\n",
       "              (resid_dropout): Dropout(p=0.1, inplace=False)\n",
       "            )\n",
       "            (ln_2): LayerNorm((768,), eps=1e-05, elementwise_affine=True)\n",
       "            (mlp): GPT2MLP(\n",
       "              (c_fc): lora.Linear4bit(\n",
       "                (base_layer): Linear4bit(in_features=768, out_features=3072, bias=True)\n",
       "                (lora_dropout): ModuleDict(\n",
       "                  (default): Dropout(p=0.2, inplace=False)\n",
       "                )\n",
       "                (lora_A): ModuleDict(\n",
       "                  (default): Linear(in_features=768, out_features=16, bias=False)\n",
       "                )\n",
       "                (lora_B): ModuleDict(\n",
       "                  (default): Linear(in_features=16, out_features=3072, bias=False)\n",
       "                )\n",
       "                (lora_embedding_A): ParameterDict()\n",
       "                (lora_embedding_B): ParameterDict()\n",
       "                (lora_magnitude_vector): ModuleDict()\n",
       "              )\n",
       "              (c_proj): Linear4bit(in_features=3072, out_features=768, bias=True)\n",
       "              (act): NewGELUActivation()\n",
       "              (dropout): Dropout(p=0.1, inplace=False)\n",
       "            )\n",
       "          )\n",
       "        )\n",
       "        (ln_f): LayerNorm((768,), eps=1e-05, elementwise_affine=True)\n",
       "      )\n",
       "      (lm_head): Linear(in_features=768, out_features=50257, bias=False)\n",
       "    )\n",
       "  )\n",
       ")"
      ]
     },
     "execution_count": 9,
     "metadata": {},
     "output_type": "execute_result"
    }
   ],
   "source": [
    "fine_tuned_model_loaded"
   ]
  },
  {
   "cell_type": "code",
   "execution_count": 10,
   "metadata": {},
   "outputs": [],
   "source": [
    "def model_predict(prompt):\n",
    "    inputs = tokenizer.encode(prompt, return_tensors='pt').to('cuda')\n",
    "    attention_mask = torch.ones(inputs.shape, device='cuda')\n",
    "    output = fine_tuned_model_loaded.generate(inputs, attention_mask=attention_mask, max_new_tokens=150, num_return_sequences=1)\n",
    "    response = tokenizer.decode(output[0])\n",
    "    return response"
   ]
  },
  {
   "cell_type": "code",
   "execution_count": 22,
   "metadata": {},
   "outputs": [
    {
     "name": "stdout",
     "output_type": "stream",
     "text": [
      "User: Can you help me write a program to calculate the average value of a list of numbers?\n",
      "\n",
      "AI Agent: Sure! Here's a code snippet that calculates the average value of a list of numbers:\n",
      "\n",
      "```python\n",
      "def average_value(nums):\n",
      "    return sum(nums)\n",
      "```\n",
      "\n",
      "In this code, the `average_value` function takes a list of numbers as input. It then uses the `sum()` function to calculate the sum of all the elements in the list. The result is then returned as the average value of the list.\n",
      "\n",
      "To use this function, you can simply call it and pass your list of numbers as an argument. For example, if you have a list `[1, 2, 3, 4, 5]`, you can call `average_value\n",
      "----------------------------------------------------------------------------------------------------\n",
      "Expected Answer:\n",
      "Sure! Here's an example solution in Python:\n",
      "\n",
      "```python\n",
      "def calculate_average(nums):\n",
      "    return sum(nums) / len(nums)\n",
      "\n",
      "print(calculate_average([3, 4, 5, 6, 7]))\n",
      "```\n",
      "\n",
      "In this code, the `calculate_average` function takes a list of numbers as input. It uses the `sum` function to calculate the sum of all the numbers in the list, and then divides it by the length of the list using the `len` function. Finally, it returns the average value.\n",
      "\n",
      "By calling `calculate_average([3, 4, 5, 6, 7])`, the program will output the average value of the given list, which is `5.0` in this case.\n",
      "****************************************************************************************************\n",
      "User: What is the code for calculating the sum of two numbers and storing the result in a variable?\n",
      "\n",
      "AI Agent:\n",
      "1. The sum of 2 and 3 is stored in the variable \"sum\".\n",
      "2. The sum of 4 and 5 is stored in the variable \"total\".\n",
      "3. The sum of 6 and 7 is stored in the variable \"total\".\n",
      "4. The sum of 8 and 9 is stored in the variable \"total\".\n",
      "5. The sum of 10 and 11 is stored in the variable \"total\".\n",
      "6. The sum of 12 and 13 is stored in the variable \"total\".\n",
      "7. The sum of 14 and 15 is stored in the variable \"total\".\n",
      "8. The sum of 16 and 17 is stored in the variable \"total\".\n",
      "9. The sum of 18 and 19 is stored in the variable\n",
      "----------------------------------------------------------------------------------------------------\n",
      "Expected Answer:\n",
      "To calculate the sum of two numbers and store the result in a variable, you can use the following code:\n",
      "\n",
      "```python\n",
      "num1 = 10\n",
      "num2 = 5\n",
      "sum = num1 + num2\n",
      "```\n",
      "\n",
      "In this code, we initialize two variables `num1` and `num2` with the numbers you want to add. Then, we use the `+` operator to add the two numbers and assign the result to the variable `sum`.\n",
      "****************************************************************************************************\n",
      "User: Is the following statement a valid Python statement - \"my_list = [1, 2, 3]\"?\n",
      "\n",
      "AI Agent:\n",
      "[1, 2, 3]\n",
      "\n",
      "In this statement, we are using the `[1, 2, 3]` syntax to specify the values we want to assign to the list. The `[1, 2, 3]` syntax is used to specify the values we want to assign to the list.\n",
      "\n",
      "The `[1, 2, 3]` syntax is used to specify the values we want to assign to the list. The `[1, 2, 3]` syntax is used to specify the values we want to assign to the list.\n",
      "\n",
      "By using this statement, you will be able to easily access and manipulate the contents of the list in Python. The `[1, 2, 3]\n",
      "----------------------------------------------------------------------------------------------------\n",
      "Expected Answer:\n",
      "Yes, the statement \"my_list = [1, 2, 3]\" is a valid Python statement. It assigns a list of integers [1, 2, 3] to the variable name \"my_list\". In Python, you can create variables and assign values to them using the \"=\" operator. In this case, the variable \"my_list\" is assigned the list [1, 2, 3]. This statement is syntactically correct and follows the conventions of Python programming language.\n",
      "****************************************************************************************************\n",
      "User: How can an AI create a python function to sort an array of integers in ascending order?\n",
      "\n",
      "AI Agent: You can use the following code to achieve this:\n",
      "\n",
      "```python\n",
      "def sort_array(arr):\n",
      "    arr.sort()\n",
      "    return arr\n",
      "```\n",
      "\n",
      "This function takes an array of integers as input and sorts it in ascending order using the `sort()` method. The `sort()` method is a built-in function in Python that returns a new array of integers. The `sort()` method is a built-in function in Python that returns a new array of integers.\n",
      "\n",
      "To use this function, you can simply call it and pass your array of integers as an argument. For example, if you have an array `[1, 2, 3, 4, 5\n",
      "----------------------------------------------------------------------------------------------------\n",
      "Expected Answer:\n",
      "You can use the following python function to sort an array of integers in ascending order:\n",
      "\n",
      "```python\n",
      "def sort_int_asc(arr):\n",
      "    arr.sort()\n",
      "    return arr\n",
      "```\n",
      "\n",
      "You can pass the array as an argument to the `sort_int_asc` function. The function sorts the array in-place using the `sort()` method, which rearranges the elements in ascending order. Finally, the sorted array is returned as the output.\n",
      "\n",
      "Here is an example usage of the `sort_int_asc` function:\n",
      "\n",
      "```python\n",
      "print(sort_int_asc([3, 7, 8, 1, 5, 4]))\n",
      "```\n",
      "\n",
      "This will output `[1, 3, 4, 5, 7, 8]`, which is the sorted array in ascending order.\n",
      "****************************************************************************************************\n",
      "User: Is it possible to write a SQL query to retrieve the employee data from the \"EMPLOYEE\" table, including their employee id, name, email, and salary?\n",
      "\n",
      "AI Agent:\n",
      "SELECT * FROM EMPLOYEE WHERE id = 'John Doe';\n",
      "\n",
      "In this query, the \"SELECT *\" statement retrieves all columns from the \"EMPLOYEE\" table. The \"WHERE id = 'John Doe'\" condition filters the results to only include rows where the \"id\" column is equal to 'John Doe'. The \"*\" in the SELECT statement represents all columns in the table.\n",
      "\n",
      "By executing this SQL query, you will obtain the employee data from the \"EMPLOYEE\" table, including their employee id, name, email, and salary. The \"*\" in the SELECT statement represents all columns in the table, including their employee id, name, email, and salary.\n",
      "----------------------------------------------------------------------------------------------------\n",
      "Expected Answer:\n",
      "Yes, it is possible to retrieve the desired employee data from the \"EMPLOYEE\" table using a SQL query. You can use the following code example:\n",
      "\n",
      "```sql\n",
      "SELECT employee_id, name, email, salary\n",
      "FROM EMPLOYEE;\n",
      "```\n",
      "\n",
      "This query will fetch all the records from the \"EMPLOYEE\" table and return the employee id, name, email, and salary for each record.\n",
      "****************************************************************************************************\n",
      "User: Can you provide a Python code snippet for calculating the length of a given string?\n",
      "\n",
      "AI Agent: Sure! Here's a Python code snippet that calculates the length of a given string:\n",
      "\n",
      "```python\n",
      "def length_of_string(string):\n",
      "    return length(string)\n",
      "```\n",
      "\n",
      "In this code, the `length_of_string` function takes a string as input and returns the length of the string. The function then uses the `length()` function to calculate the length of the string. The result is then returned as the output of the function.\n",
      "\n",
      "To use this code, you can simply call the `length_of_string` function and pass your desired string as an argument. For example, if you want to calculate the length of a string like \"Hello\", you can\n",
      "----------------------------------------------------------------------------------------------------\n",
      "Expected Answer:\n",
      "Certainly! Here's an example code that can compute the length of a string in Python:\n",
      "\n",
      "```python\n",
      "def get_length(string):\n",
      "    length = 0\n",
      "    for char in string:\n",
      "        length += 1\n",
      "    return length\n",
      "```\n",
      "\n",
      "This code defines a function called `get_length` that takes a `string` as input. It initializes a variable `length` to 0, which will be used to keep track of the string's length. \n",
      "\n",
      "Next, a loop is used to iterate through each character of the input string. For every character encountered, the `length` variable is incremented by 1. This effectively counts the number of characters in the string.\n",
      "\n",
      "Finally, the function returns the computed length value. You can use this function by passing a string as an argument, and it will return the length of that string.\n",
      "****************************************************************************************************\n"
     ]
    }
   ],
   "source": [
    "for i in range(len(test_dataset['questions'])):\n",
    "    prompt = test_dataset['questions'][i]\n",
    "    response = model_predict(prompt + '\\n\\n' + 'AI Agent:')\n",
    "    print(f\"User: {response}\")\n",
    "    print('-'* 100)\n",
    "    print(f\"Expected Answer:\")\n",
    "    print(f\"{test_dataset['answers'][i]}\")\n",
    "    print(\"*\"* 100)\n",
    "    if i == 5:\n",
    "        break"
   ]
  },
  {
   "cell_type": "code",
   "execution_count": 23,
   "metadata": {},
   "outputs": [
    {
     "name": "stdout",
     "output_type": "stream",
     "text": [
      "User: What is the type of the variable \"data\" in the following code snippet?\n",
      "\n",
      "```python\n",
      "data = \"Hello, World!\"\n",
      "```\n",
      "\n",
      "AI Agent:\n",
      "    \"Hello, World!\"\n",
      "```\n",
      "\n",
      "In this code, the variable \"data\" is assigned the value \"Hello, World!\". The AI agent uses the `data` variable to display the value of the variable \"data\" on the console.\n",
      "\n",
      "By executing this code, the AI agent will display the value of \"data\" on the console. The value of \"data\" will be displayed on the console when the AI agent is executed.\n",
      "\n",
      "Please note that this code assumes that the variable \"data\" is initialized to the value \"Hello, World!\". If you want to change the value of \"data\" to \"Hello, World!\", you can modify the value of \"data\" to whatever you want\n",
      "----------------------------------------------------------------------------------------------------\n",
      "Expected Answer:\n",
      "The type of the variable \"data\" in the given code is a string.\n",
      "****************************************************************************************************\n"
     ]
    }
   ],
   "source": [
    "prompt = test_dataset['questions'][57]\n",
    "response = model_predict(prompt + '\\n\\n' + 'AI Agent:')\n",
    "print(f\"User: {response}\")\n",
    "print('-'* 100)\n",
    "print(f\"Expected Answer:\")\n",
    "print(f\"{test_dataset['answers'][57]}\")\n",
    "print(\"*\"* 100)"
   ]
  }
 ],
 "metadata": {
  "language_info": {
   "name": "python"
  }
 },
 "nbformat": 4,
 "nbformat_minor": 2
}
